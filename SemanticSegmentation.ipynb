{
 "cells": [
  {
   "cell_type": "code",
   "execution_count": 2,
   "metadata": {},
   "outputs": [],
   "source": [
    "import os.path\n",
    "import tensorflow as tf\n",
    "import helper\n",
    "import warnings\n",
    "from distutils.version import LooseVersion\n",
    "import project_tests as tests"
   ]
  },
  {
   "cell_type": "code",
   "execution_count": 4,
   "metadata": {},
   "outputs": [
    {
     "name": "stdout",
     "output_type": "stream",
     "text": [
      "TensorFlow Version: 1.2.1\n",
      "Default GPU Device: /gpu:0\n"
     ]
    }
   ],
   "source": [
    "# Check TensorFlow Version\n",
    "assert LooseVersion(tf.__version__) >= LooseVersion('1.0'), 'Please use TensorFlow version 1.0 or newer.  You are using {}'.format(tf.__version__)\n",
    "print('TensorFlow Version: {}'.format(tf.__version__))\n",
    "\n",
    "# Check for a GPU\n",
    "if not tf.test.gpu_device_name():\n",
    "    warnings.warn('No GPU found. Please use a GPU to train your neural network.')\n",
    "else:\n",
    "    print('Default GPU Device: {}'.format(tf.test.gpu_device_name()))"
   ]
  },
  {
   "cell_type": "code",
   "execution_count": null,
   "metadata": {
    "collapsed": true
   },
   "outputs": [],
   "source": [
    "def load_vgg(sess, vgg_path):\n",
    "    \"\"\"\n",
    "    Load Pretrained VGG Model into TensorFlow.\n",
    "    :param sess: TensorFlow Session\n",
    "    :param vgg_path: Path to vgg folder, containing \"variables/\" and \"saved_model.pb\"\n",
    "    :return: Tuple of Tensors from VGG model (image_input, keep_prob, layer3_out, layer4_out, layer7_out)\n",
    "    \"\"\"\n",
    "    # TODO: Implement function\n",
    "    #   Use tf.saved_model.loader.load to load the model and weights\n",
    "    vgg_tag = 'vgg16'\n",
    "    vgg_input_tensor_name = 'image_input:0'\n",
    "    vgg_keep_prob_tensor_name = 'keep_prob:0'\n",
    "    vgg_layer3_out_tensor_name = 'layer3_out:0'\n",
    "    vgg_layer4_out_tensor_name = 'layer4_out:0'\n",
    "    vgg_layer7_out_tensor_name = 'layer7_out:0'\n",
    "\n",
    "    tf.saved_model.loader.load(sess, [vgg_tag], vgg_path)\n",
    "    graph = tf.get_default_graph()\n",
    "    input = graph.get_tensor_by_name(vgg_input_tensor_name)\n",
    "    keep_prob = graph.get_tensor_by_name(vgg_keep_prob_tensor_name)\n",
    "    layer3_out = graph.get_tensor_by_name(vgg_layer3_out_tensor_name)\n",
    "    layer4_out = graph.get_tensor_by_name(vgg_layer4_out_tensor_name)\n",
    "    layer7_out = graph.get_tensor_by_name(vgg_layer7_out_tensor_name)\n",
    "    return input, keep_prob, layer3_out, layer4_out, layer7_out\n",
    "\n",
    "print(\"VGG16 model is now loaded....\")\n",
    "tests.test_load_vgg(load_vgg, tf)"
   ]
  },
  {
   "cell_type": "code",
   "execution_count": null,
   "metadata": {
    "collapsed": true
   },
   "outputs": [],
   "source": [
    "def layers(vgg_layer3_out, vgg_layer4_out, vgg_layer7_out, num_classes):\n",
    "    \"\"\"\n",
    "    Create the layers for a fully convolutional network.  Build skip-layers using the vgg layers.\n",
    "    :param vgg_layer7_out: TF Tensor for VGG Layer 3 output\n",
    "    :param vgg_layer4_out: TF Tensor for VGG Layer 4 output\n",
    "    :param vgg_layer3_out: TF Tensor for VGG Layer 7 output\n",
    "    :param num_classes: Number of classes to classify\n",
    "    :return: The Tensor for the last layer of output\n",
    "    \"\"\"\n",
    "    # TODO: Implement function\n",
    "    # Perform 1 x 1 conv for layer 7\n",
    "    conv_1x1_layer_7 = tf.layers.conv2d(vgg_layer7_out, num_classes, 1,\n",
    "                                   padding='same',\n",
    "                                   kernel_initializer=tf.random_normal_initializer(stddev=0.01),\n",
    "                                   kernel_regularizer=tf.contrib.layers.l2_regularizer(1e-3))\n",
    "    # Upsample the image\n",
    "    output_7 = tf.layers.conv2d_transpose(conv_1x1_layer_7, num_classes, 4,\n",
    "                                             strides=(2, 2),\n",
    "                                             padding='same',\n",
    "                                             kernel_initializer=tf.random_normal_initializer(stddev=0.01),\n",
    "                                             kernel_regularizer=tf.contrib.layers.l2_regularizer(1e-3))\n",
    "\n",
    "    # Perform 1 x 1 conv for layer 4\n",
    "    conv_1x1_layer_4 = tf.layers.conv2d(vgg_layer4_out, num_classes, 1,\n",
    "                                   padding='same',\n",
    "                                   kernel_initializer=tf.random_normal_initializer(stddev=0.01),\n",
    "                                   kernel_regularizer=tf.contrib.layers.l2_regularizer(1e-3))\n",
    "    # Skip connection\n",
    "    output_4_skip = tf.add(output_7, conv_1x1_layer_4)\n",
    "\n",
    "    # Upsample the image layer 4\n",
    "    output_4 = tf.layers.conv2d_transpose(output_4_skip, num_classes, 4\n",
    "                                          strides=(2, 2),\n",
    "                                            padding='same',\n",
    "                                            kernel_initializer=tf.random_normal_initializer(stddev=0.01),\n",
    "                                            kernel_regularizer=tf.contrib.layers.l2_regularizer(1e-3))\n",
    "\n",
    "    # Perform 1 x 1 conv for layer 3\n",
    "    conv_1x1_layer_3 = tf.layers.conv2d(vgg_layer3_out, num_classes, 1,\n",
    "                                   padding='same',\n",
    "                                   kernel_initializer=tf.random_normal_initializer(stddev=0.01),\n",
    "                                   kernel_regularizer=tf.contrib.layers.l2_regularizer(1e-3))\n",
    "    # Skip connection\n",
    "    output_3_skip = tf.add(output_4, conv_1x1_layer_3)\n",
    "\n",
    "    # Upsample the image layer 4\n",
    "    final_layer = tf.layers.conv2d_transpose(output_3_skip, num_classes, 4,\n",
    "                                          strides=(2, 2),\n",
    "                                          padding='same',\n",
    "                                          kernel_initializer=tf.random_normal_initializer(stddev=0.01),\n",
    "                                          kernel_regularizer=tf.contrib.layers.l2_regularizer(1e-3))\n",
    "    return final_layer\n",
    "print(\"Layers defined...\")\n",
    "tests.test_layers(layers)"
   ]
  },
  {
   "cell_type": "code",
   "execution_count": null,
   "metadata": {
    "collapsed": true
   },
   "outputs": [],
   "source": []
  }
 ],
 "metadata": {
  "kernelspec": {
   "display_name": "Python 3",
   "language": "python",
   "name": "python3"
  },
  "language_info": {
   "codemirror_mode": {
    "name": "ipython",
    "version": 3
   },
   "file_extension": ".py",
   "mimetype": "text/x-python",
   "name": "python",
   "nbconvert_exporter": "python",
   "pygments_lexer": "ipython3",
   "version": "3.6.1"
  }
 },
 "nbformat": 4,
 "nbformat_minor": 2
}
